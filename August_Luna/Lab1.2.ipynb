{
 "cells": [
  {
   "cell_type": "markdown",
   "metadata": {},
   "source": [
    "put your name, etc here"
   ]
  },
  {
   "cell_type": "code",
   "execution_count": null,
   "metadata": {},
   "outputs": [],
   "source": [
    "August Luna"
   ]
  },
  {
   "cell_type": "markdown",
   "metadata": {},
   "source": [
    "# Lecture 1.2"
   ]
  },
  {
   "cell_type": "markdown",
   "metadata": {},
   "source": [
    "Short lecture today, and mostly logistics. I will introduce the final projects and grading next week. (Sorry!) Short story for the grading is that you have to complete these first labs to pass the class, and I am grading them in a binary done/not-done scheme. So you need to complete them.\n",
    "\n",
    "Lecture Agenda:\n",
    "\n",
    "* debriefing on first class and homework, how's it going?\n",
    "* logistics of github, downloading this Lab 1.2 notebook\n",
    "* commenting and markup in notebooks\n",
    "* workflow for the class\n"
   ]
  },
  {
   "cell_type": "markdown",
   "metadata": {},
   "source": [
    "In general, we will do warmup exercises and lab exercises in a jupyter notebook. For most classes, you will download the notebook from github, open it on your local computer, and then upload your completed work back on github in  your folder. In general, all lab work for the week is due Sunday before midnight on blackboard.\n",
    "\n",
    "\n"
   ]
  },
  {
   "cell_type": "code",
   "execution_count": 1,
   "metadata": {},
   "outputs": [],
   "source": [
    "# here is an example of code commenting. The # symbol means everything on this line will be ignored \n",
    "\n"
   ]
  },
  {
   "cell_type": "markdown",
   "metadata": {},
   "source": [
    "Here is an example of markdown text. Because this cell is in markdown mode it will also be ignored by the python shell"
   ]
  },
  {
   "cell_type": "code",
   "execution_count": null,
   "metadata": {},
   "outputs": [],
   "source": []
  },
  {
   "cell_type": "markdown",
   "metadata": {},
   "source": [
    "## Preliminaries"
   ]
  },
  {
   "cell_type": "markdown",
   "metadata": {},
   "source": [
    "In our class github site, create a folder for yourself where you will submit your jupyter notebooks. The easiest way to do this is to create a new file that is a placeholder document in the new folder. You can delete it later."
   ]
  },
  {
   "cell_type": "markdown",
   "metadata": {},
   "source": [
    "## Warmup exercises"
   ]
  },
  {
   "cell_type": "markdown",
   "metadata": {},
   "source": [
    "As you are doing these exercises, get familiar with jupyter notebook commands \n",
    "https://towardsdatascience.com/jypyter-notebook-shortcuts-bf0101a98330\n",
    "\n",
    "and markdown text https://medium.com/@ingeh/markdown-for-jupyter-notebooks-cheatsheet-386c05aeebed\n",
    "\n",
    "These exercises are based on what you have learned previously. Feel free to go look at what you did in datacamp to figure out how to answer them."
   ]
  },
  {
   "cell_type": "markdown",
   "metadata": {},
   "source": [
    "**W.1** Define and assign values to three variables of the three types we learned about Monday: integer, floating point, string and boolian. \n",
    "\n",
    "Note you can add more cells below by pressing the + button above or typing [esc] to command mode, then [b] to enter a cell below, or [a] to enter a cell above. See the link above for more commands"
   ]
  },
  {
   "cell_type": "code",
   "execution_count": 2,
   "metadata": {},
   "outputs": [],
   "source": [
    "Int= 1\n",
    "float_number= 2.3\n",
    "string = 'today is a good day'\n",
    "Bool= False\n",
    "\n"
   ]
  },
  {
   "cell_type": "markdown",
   "metadata": {},
   "source": [
    "**W.2** Print out the value and check the type of each variable"
   ]
  },
  {
   "cell_type": "code",
   "execution_count": 3,
   "metadata": {},
   "outputs": [
    {
     "data": {
      "text/plain": [
       "int"
      ]
     },
     "execution_count": 3,
     "metadata": {},
     "output_type": "execute_result"
    }
   ],
   "source": [
    "type(Int)"
   ]
  },
  {
   "cell_type": "code",
   "execution_count": 4,
   "metadata": {},
   "outputs": [
    {
     "data": {
      "text/plain": [
       "float"
      ]
     },
     "execution_count": 4,
     "metadata": {},
     "output_type": "execute_result"
    }
   ],
   "source": [
    "type(float_number)"
   ]
  },
  {
   "cell_type": "code",
   "execution_count": 5,
   "metadata": {},
   "outputs": [
    {
     "data": {
      "text/plain": [
       "str"
      ]
     },
     "execution_count": 5,
     "metadata": {},
     "output_type": "execute_result"
    }
   ],
   "source": [
    "type(string)"
   ]
  },
  {
   "cell_type": "code",
   "execution_count": 6,
   "metadata": {},
   "outputs": [
    {
     "data": {
      "text/plain": [
       "bool"
      ]
     },
     "execution_count": 6,
     "metadata": {},
     "output_type": "execute_result"
    }
   ],
   "source": [
    "type(Bool)"
   ]
  },
  {
   "cell_type": "markdown",
   "metadata": {},
   "source": [
    "**W.3** Create a new variable that saves the value of the float variable as a string. Print it out"
   ]
  },
  {
   "cell_type": "code",
   "execution_count": 7,
   "metadata": {},
   "outputs": [],
   "source": [
    "fluffy_socks= str(float_number)"
   ]
  },
  {
   "cell_type": "code",
   "execution_count": 8,
   "metadata": {},
   "outputs": [
    {
     "name": "stdout",
     "output_type": "stream",
     "text": [
      "2.3\n"
     ]
    }
   ],
   "source": [
    "print(fluffy_socks)"
   ]
  },
  {
   "cell_type": "markdown",
   "metadata": {},
   "source": [
    "**W.4** Using multiplication of a variable, print out the text \"Bueno Bueno Bueno Bueno Bueno\" (Shoutout to Monsieur Periné https://youtu.be/JGL-eQAAxGs see 10:45)"
   ]
  },
  {
   "cell_type": "code",
   "execution_count": 9,
   "metadata": {},
   "outputs": [],
   "source": [
    "Perine = \" Bueno\" *5"
   ]
  },
  {
   "cell_type": "code",
   "execution_count": 10,
   "metadata": {},
   "outputs": [
    {
     "name": "stdout",
     "output_type": "stream",
     "text": [
      " Bueno Bueno Bueno Bueno Bueno\n"
     ]
    }
   ],
   "source": [
    "print(Perine)"
   ]
  },
  {
   "cell_type": "markdown",
   "metadata": {},
   "source": [
    "**W.5** Do the same thing using addtion"
   ]
  },
  {
   "cell_type": "code",
   "execution_count": 12,
   "metadata": {},
   "outputs": [],
   "source": [
    "Perine_add = \"Bueno\" + ' Bueno' + \" Bueno\" + \" Bueno\" + \" Bueno\""
   ]
  },
  {
   "cell_type": "code",
   "execution_count": 13,
   "metadata": {},
   "outputs": [
    {
     "name": "stdout",
     "output_type": "stream",
     "text": [
      "Bueno Bueno Bueno Bueno Bueno\n"
     ]
    }
   ],
   "source": [
    "print(Perine_add)"
   ]
  },
  {
   "cell_type": "markdown",
   "metadata": {},
   "source": [
    "**W.6** If you add an int and a float, what is the resulting variable type? Demonstrate"
   ]
  },
  {
   "cell_type": "code",
   "execution_count": 14,
   "metadata": {},
   "outputs": [],
   "source": [
    "a= 1+2.5"
   ]
  },
  {
   "cell_type": "code",
   "execution_count": 15,
   "metadata": {},
   "outputs": [
    {
     "data": {
      "text/plain": [
       "float"
      ]
     },
     "execution_count": 15,
     "metadata": {},
     "output_type": "execute_result"
    }
   ],
   "source": [
    "type(a)"
   ]
  },
  {
   "cell_type": "code",
   "execution_count": 16,
   "metadata": {},
   "outputs": [
    {
     "data": {
      "text/plain": [
       "float"
      ]
     },
     "execution_count": 16,
     "metadata": {},
     "output_type": "execute_result"
    }
   ],
   "source": [
    "type(1+2.5)"
   ]
  },
  {
   "cell_type": "markdown",
   "metadata": {},
   "source": [
    "**W.7** Can you convert a Boolian to an interger type variable? If so, what is the resulting value? What happens if you convert a float to an int?"
   ]
  },
  {
   "cell_type": "code",
   "execution_count": 17,
   "metadata": {},
   "outputs": [],
   "source": [
    "Bool_int= int(Bool)"
   ]
  },
  {
   "cell_type": "code",
   "execution_count": 18,
   "metadata": {},
   "outputs": [
    {
     "name": "stdout",
     "output_type": "stream",
     "text": [
      "0\n"
     ]
    }
   ],
   "source": [
    "print(Bool_int)"
   ]
  },
  {
   "cell_type": "code",
   "execution_count": 19,
   "metadata": {},
   "outputs": [],
   "source": [
    "float_int= int(float_number)"
   ]
  },
  {
   "cell_type": "code",
   "execution_count": 20,
   "metadata": {},
   "outputs": [
    {
     "name": "stdout",
     "output_type": "stream",
     "text": [
      "2\n"
     ]
    }
   ],
   "source": [
    "print(float_int)"
   ]
  },
  {
   "cell_type": "code",
   "execution_count": 21,
   "metadata": {},
   "outputs": [],
   "source": [
    "c=3.9"
   ]
  },
  {
   "cell_type": "code",
   "execution_count": 22,
   "metadata": {},
   "outputs": [],
   "source": [
    "d=int(c)"
   ]
  },
  {
   "cell_type": "code",
   "execution_count": 23,
   "metadata": {},
   "outputs": [
    {
     "name": "stdout",
     "output_type": "stream",
     "text": [
      "3\n"
     ]
    }
   ],
   "source": [
    "print(d)"
   ]
  },
  {
   "cell_type": "markdown",
   "metadata": {},
   "source": [
    "# Lab 1.2"
   ]
  },
  {
   "cell_type": "markdown",
   "metadata": {},
   "source": [
    "## Lab Exercises"
   ]
  },
  {
   "cell_type": "markdown",
   "metadata": {},
   "source": [
    "**E.1** Complete Ch 2 of Introduction to Python in datacamp. "
   ]
  },
  {
   "cell_type": "markdown",
   "metadata": {},
   "source": [
    "**E.2** Below you will spend time practicing what you have learned in Ch 2. Use a comination of code, code commenting, and markdown text to take notes. Make sure you investigate how python syntax works and understand what you are doing, and what went wrong if you have any issues. You can refer to this document later if you need to review, so give future you lots of commenting to be helpful."
   ]
  },
  {
   "cell_type": "markdown",
   "metadata": {},
   "source": [
    "**E.2.1** Let's work on lists, indexing and printing out elements of lists.\n",
    "\n",
    "We are going to calculate the BMI of five family members (or friends/colleaues if you have a small family, or famous people/politicians/atheletes if you really don't like talking to people, they just have to be adults and you need their data). Make intellegently named lists for the first name, last name, height, weight and age of each person. So, five lists in total."
   ]
  },
  {
   "cell_type": "code",
   "execution_count": 282,
   "metadata": {},
   "outputs": [],
   "source": [
    "Names= [ \"Mom\", \"Dad\", \"Grandpa\", \"Grandma\", \"Jacob\"]\n",
    "Last_names= [\" Luna\", \" Luna\", \" Salazar\", \" Santoscoy\", \" DeLa Garza\"]\n",
    "H= [64, 65, 66, 64, 70]\n",
    "W= [150.0, 155.0,180.0, 160.0, 165.0]\n",
    "age= [54,56,84,73,21]\n",
    "#H in inches, W in lbs"
   ]
  },
  {
   "cell_type": "code",
   "execution_count": 283,
   "metadata": {},
   "outputs": [],
   "source": [
    "#BMI is kg/m^2... conversion time\n",
    "H_M= [\n",
    "H[0]/39.3,    \n",
    "H[1]/39.3,    \n",
    "H[2]/39.3,    \n",
    "H[3]/39.3,    \n",
    "H[4]/39.3,  \n",
    "]\n",
    "\n",
    "W_Kg= [\n",
    "W[0]/2.2,    \n",
    "W[1]/2.2,    \n",
    "W[2]/2.2,    \n",
    "W[3]/2.2,    \n",
    "W[4]/2.2,  \n",
    "]"
   ]
  },
  {
   "cell_type": "code",
   "execution_count": 284,
   "metadata": {},
   "outputs": [
    {
     "name": "stdout",
     "output_type": "stream",
     "text": [
      "64\n"
     ]
    }
   ],
   "source": [
    "print(H[0])\n",
    "#I got wrong numbers because I forgot to re-run ALL the code relating to BMI."
   ]
  },
  {
   "cell_type": "markdown",
   "metadata": {},
   "source": [
    "**E.2.2** Now create a new list that calculates the BMI of each person using the lists you created before"
   ]
  },
  {
   "cell_type": "code",
   "execution_count": 285,
   "metadata": {},
   "outputs": [],
   "source": [
    "BMI= [W_Kg[0]/(H_M[0]**2), W_Kg[1]/(H_M[1]**2), W_Kg[2]/(H_M[2]**2), W_Kg[3]/(H_M[3]**2), W_Kg[4]/(H_M[4]**2)]"
   ]
  },
  {
   "cell_type": "code",
   "execution_count": 286,
   "metadata": {},
   "outputs": [
    {
     "name": "stdout",
     "output_type": "stream",
     "text": [
      "[25.709505948153403, 25.755346960731575, 29.00995492111194, 27.42347301136363, 23.640153061224485]\n"
     ]
    }
   ],
   "source": [
    "print(BMI)"
   ]
  },
  {
   "cell_type": "code",
   "execution_count": 287,
   "metadata": {},
   "outputs": [],
   "source": [
    "BMI_list= [\n",
    "[Names[0],Last_names[0], BMI[0],],\n",
    "[Names[1], Last_names[1], BMI[1],], \n",
    "[Names[2], Last_names[2], BMI[2],],    \n",
    "[Names[3], Last_names[3], BMI[3],],    \n",
    "[Names[4], Last_names[4], BMI[4],],    \n",
    "]"
   ]
  },
  {
   "cell_type": "markdown",
   "metadata": {},
   "source": [
    "**E.2.3** Look up the weight classification of each person based on their BMI (what's a good source for this, who do you trust?). Create a new list with this information for each person. (Don't judge, after 9 mo of COVID we all ate too much comfort foods.)"
   ]
  },
  {
   "cell_type": "code",
   "execution_count": 288,
   "metadata": {},
   "outputs": [],
   "source": [
    "#according to https://www.diabetes.ca\n",
    "\n",
    "#underweight = BMI < 18. \n",
    "#healthy_weight= 18.5 < BMI < 24.9\n",
    "#overweight= 24.9 <BMI"
   ]
  },
  {
   "cell_type": "code",
   "execution_count": 289,
   "metadata": {},
   "outputs": [],
   "source": [
    "BMI_list_updated= [\n",
    "[Names[0], Last_names[0], age[0], H_M[0], W_Kg[0], BMI[0],\"over weight\"],\n",
    "[Names[1], Last_names[1], age[1], H_M[1], W_Kg[1], BMI[1],\"over weight\"], \n",
    "[Names[2], Last_names[2], age[2], H_M[2], W_Kg[2], BMI[2],\"over weight\"],    \n",
    "[Names[3], Last_names[3], age[3], H_M[3], W_Kg[3], BMI[3],\"over weight\"],    \n",
    "[Names[4], Last_names[4], age[4], H_M[4], W_Kg[4], BMI[4],\"healthy weight\"],    \n",
    "]"
   ]
  },
  {
   "cell_type": "code",
   "execution_count": 290,
   "metadata": {},
   "outputs": [
    {
     "data": {
      "text/plain": [
       "'over weight'"
      ]
     },
     "execution_count": 290,
     "metadata": {},
     "output_type": "execute_result"
    }
   ],
   "source": [
    "BMI_list_updated[0][-1]\n"
   ]
  },
  {
   "cell_type": "markdown",
   "metadata": {},
   "source": [
    "**E.2.3** Let's practice some print statements and iterate manually through the people on your lists.\n",
    "\n",
    "For each person, print out something like: \"First_name last_name, age xx, has a height of xx units and weight of xx units, giving them a body mass index (BMI) of xx, making them yy\" where yy is if they are normal, obese, etc."
   ]
  },
  {
   "cell_type": "code",
   "execution_count": 332,
   "metadata": {},
   "outputs": [
    {
     "name": "stdout",
     "output_type": "stream",
     "text": [
      "Mom Luna , 54 ,  has a height of 1.628498727735369  meters and a weight of 68.18181818181817 Kg. This gived them a BMI of 25.709505948153403making them  over weight\n",
      "Dad Luna , 56 ,  has a height of 1.6539440203562341  meters and a weight of 70.45454545454545 Kg. This gived them a BMI of 25.755346960731575making them  over weight\n",
      "Grandpa Salazar , 84 ,  has a height of 1.6793893129770994  meters and a weight of 81.81818181818181 Kg. This gived them a BMI of 29.00995492111194making them  over weight\n",
      "Grandma Santoscoy , 73 ,  has a height of 1.628498727735369  meters and a weight of 72.72727272727272 Kg. This gived them a BMI of 27.42347301136363making them  over weight\n",
      "Jacob DeLa Garza , 21 ,  has a height of 1.78117048346056  meters and a weight of 75.0 Kg. This gived them a BMI of 23.640153061224485making them  healthy weight\n"
     ]
    }
   ],
   "source": [
    "print(BMI_list_updated[0][0] + BMI_list_updated[0][1] + \" , \"+ str(BMI_list_updated[0][2]) +\" , \" + ' has a height of '+ str(BMI_list_updated[0][3]) + '  meters and a weight of ' + str(BMI_list_updated[0][4])+ ' Kg. This gived them a BMI of '+ str(BMI_list_updated[0][5])+ \"making them  \"+ str(BMI_list_updated[0][6]) )\n",
    "print(BMI_list_updated[1][0] + BMI_list_updated[1][1] + \" , \"+ str(BMI_list_updated[1][2]) +\" , \" + ' has a height of '+ str(BMI_list_updated[1][3]) + '  meters and a weight of ' + str(BMI_list_updated[1][4])+ ' Kg. This gived them a BMI of '+ str(BMI_list_updated[1][5])+ \"making them  \"+ str(BMI_list_updated[1][6]) )\n",
    "print(BMI_list_updated[2][0] + BMI_list_updated[2][1] + \" , \"+ str(BMI_list_updated[2][2]) +\" , \" + ' has a height of '+ str(BMI_list_updated[2][3]) + '  meters and a weight of ' + str(BMI_list_updated[2][4])+ ' Kg. This gived them a BMI of '+ str(BMI_list_updated[2][5])+ \"making them  \"+ str(BMI_list_updated[2][6]) )\n",
    "print(BMI_list_updated[3][0] + BMI_list_updated[3][1] + \" , \"+ str(BMI_list_updated[3][2]) +\" , \" + ' has a height of '+ str(BMI_list_updated[3][3]) + '  meters and a weight of ' + str(BMI_list_updated[3][4])+ ' Kg. This gived them a BMI of '+ str(BMI_list_updated[3][5])+ \"making them  \"+ str(BMI_list_updated[3][6]) )\n",
    "print(BMI_list_updated[4][0] + BMI_list_updated[4][1] + \" , \"+ str(BMI_list_updated[4][2]) +\" , \" + ' has a height of '+ str(BMI_list_updated[4][3]) + '  meters and a weight of ' + str(BMI_list_updated[4][4])+ ' Kg. This gived them a BMI of '+ str(BMI_list_updated[4][5])+ \"making them  \"+ str(BMI_list_updated[4][6]) )\n"
   ]
  },
  {
   "cell_type": "markdown",
   "metadata": {},
   "source": [
    "**E.2.4** Now add/append your information to each of the lists, and do the same print statement for you. Make a resolution to eat more veggies."
   ]
  },
  {
   "cell_type": "code",
   "execution_count": 333,
   "metadata": {},
   "outputs": [
    {
     "data": {
      "text/plain": [
       "[23.875114784205696]"
      ]
     },
     "execution_count": 333,
     "metadata": {},
     "output_type": "execute_result"
    }
   ],
   "source": [
    "[65/1.65**2]"
   ]
  },
  {
   "cell_type": "code",
   "execution_count": 340,
   "metadata": {},
   "outputs": [],
   "source": [
    "BMI= BMI+ [65/1.65**2]\n",
    "Names= Names + ['August']\n",
    "Last_names= Last_names + [' Luna']\n",
    "age = age+ [21]\n",
    "H_M= H_M + [1.65]\n",
    "W_Kg= W_Kg + [65]"
   ]
  },
  {
   "cell_type": "code",
   "execution_count": 352,
   "metadata": {},
   "outputs": [
    {
     "data": {
      "text/plain": [
       "21"
      ]
     },
     "execution_count": 352,
     "metadata": {},
     "output_type": "execute_result"
    }
   ],
   "source": [
    "age[5]"
   ]
  },
  {
   "cell_type": "code",
   "execution_count": 356,
   "metadata": {},
   "outputs": [],
   "source": [
    "BMI_list_updated= [\n",
    "[Names[0], Last_names[0], age[0], H_M[0], W_Kg[0], BMI[0],\"over weight\"],\n",
    "[Names[1], Last_names[1], age[1], H_M[1], W_Kg[1], BMI[1],\"over weight\"], \n",
    "[Names[2], Last_names[2], age[2], H_M[2], W_Kg[2], BMI[2],\"over weight\"],    \n",
    "[Names[3], Last_names[3], age[3], H_M[3], W_Kg[3], BMI[3],\"over weight\"],    \n",
    "[Names[4], Last_names[4], age[4], H_M[4], W_Kg[4], BMI[4],\"healthy weight\"],    \n",
    "[Names[5], Last_names[5], age[5], H_M[5], W_Kg[5], BMI[5],\"healthy weight\"]\n",
    "]"
   ]
  },
  {
   "cell_type": "code",
   "execution_count": null,
   "metadata": {},
   "outputs": [],
   "source": []
  },
  {
   "cell_type": "code",
   "execution_count": 357,
   "metadata": {},
   "outputs": [
    {
     "name": "stdout",
     "output_type": "stream",
     "text": [
      "['Jacob', ' DeLa Garza', 21, 1.78117048346056, 75.0, 23.640153061224485, 'healthy weight']\n"
     ]
    }
   ],
   "source": [
    "print(BMI_list_updated[4])"
   ]
  },
  {
   "cell_type": "code",
   "execution_count": 359,
   "metadata": {},
   "outputs": [
    {
     "name": "stdout",
     "output_type": "stream",
     "text": [
      "August Luna , 21 ,  has a height of 1.65  meters and a weight of 65 Kg. This gived them a BMI of 23.875114784205696 making them  healthy weight\n"
     ]
    }
   ],
   "source": [
    "print(BMI_list_updated[5][0] + BMI_list_updated[5][1] + \" , \"+ str(BMI_list_updated[5][2]) +\" , \" + ' has a height of '+ str(BMI_list_updated[5][3]) + '  meters and a weight of ' + str(BMI_list_updated[5][4])+ ' Kg. This gived them a BMI of '+ str(BMI_list_updated[5][5])+ \" making them  \"+ str(BMI_list_updated[5][6]))"
   ]
  },
  {
   "cell_type": "markdown",
   "metadata": {},
   "source": [
    "When you are done with your lab, upload this document to your github folder on the class site. Then submit a url link to the completed lab, along with a screenshot of your completed Ch 2 score in datacamp, to the assignment tab in Blackboard."
   ]
  },
  {
   "cell_type": "markdown",
   "metadata": {},
   "source": [
    "# Scratch"
   ]
  },
  {
   "cell_type": "code",
   "execution_count": 309,
   "metadata": {},
   "outputs": [],
   "source": [
    "# this is an area of the notebook you can mess around and test things out, if you don't want to put it above"
   ]
  },
  {
   "cell_type": "code",
   "execution_count": 310,
   "metadata": {},
   "outputs": [],
   "source": [
    "#creates a Nonetype- but I did use this to figure out their stats\n",
    "def measurement(x):\n",
    "    if (x <= 18):\n",
    "        print(\"underweight\")\n",
    "    elif (18.1 <= x<= 25):\n",
    "        print(\"healthy weight\")\n",
    "    elif(24.1<= x):\n",
    "        print(\"over wieght\")\n",
    "    else:\n",
    "        print (\"Are you even human?\")\n",
    "        return "
   ]
  },
  {
   "cell_type": "code",
   "execution_count": 311,
   "metadata": {},
   "outputs": [
    {
     "name": "stdout",
     "output_type": "stream",
     "text": [
      "over wieght\n",
      "None\n",
      "over wieght\n",
      "None\n",
      "over wieght\n",
      "None\n",
      "over wieght\n",
      "None\n",
      "healthy weight\n",
      "None\n",
      "healthy weight\n",
      "None\n"
     ]
    }
   ],
   "source": [
    "for i in BMI:\n",
    "    print (measurement(i))"
   ]
  },
  {
   "cell_type": "code",
   "execution_count": 301,
   "metadata": {},
   "outputs": [
    {
     "ename": "NameError",
     "evalue": "name 'mom' is not defined",
     "output_type": "error",
     "traceback": [
      "\u001b[1;31m---------------------------------------------------------------------------\u001b[0m",
      "\u001b[1;31mNameError\u001b[0m                                 Traceback (most recent call last)",
      "\u001b[1;32m<ipython-input-301-611c84924b3e>\u001b[0m in \u001b[0;36m<module>\u001b[1;34m\u001b[0m\n\u001b[1;32m----> 1\u001b[1;33m \u001b[0mnon_string_names\u001b[0m\u001b[1;33m=\u001b[0m \u001b[0mmom\u001b[0m\u001b[1;33m,\u001b[0m \u001b[0mdad\u001b[0m\u001b[1;33m,\u001b[0m \u001b[0muncle\u001b[0m\u001b[1;33m\u001b[0m\u001b[1;33m\u001b[0m\u001b[0m\n\u001b[0m\u001b[0;32m      2\u001b[0m \u001b[1;31m#doesnt work argafjkadshg\u001b[0m\u001b[1;33m\u001b[0m\u001b[1;33m\u001b[0m\u001b[1;33m\u001b[0m\u001b[0m\n",
      "\u001b[1;31mNameError\u001b[0m: name 'mom' is not defined"
     ]
    }
   ],
   "source": [
    "non_string_names= mom, dad, uncle\n",
    "#doesnt work argafjkadshg\n"
   ]
  },
  {
   "cell_type": "code",
   "execution_count": null,
   "metadata": {},
   "outputs": [],
   "source": []
  }
 ],
 "metadata": {
  "kernelspec": {
   "display_name": "Python 3",
   "language": "python",
   "name": "python3"
  },
  "language_info": {
   "codemirror_mode": {
    "name": "ipython",
    "version": 3
   },
   "file_extension": ".py",
   "mimetype": "text/x-python",
   "name": "python",
   "nbconvert_exporter": "python",
   "pygments_lexer": "ipython3",
   "version": "3.8.5"
  }
 },
 "nbformat": 4,
 "nbformat_minor": 4
}
