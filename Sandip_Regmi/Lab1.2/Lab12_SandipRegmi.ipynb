{
 "cells": [
  {
   "cell_type": "raw",
   "metadata": {},
   "source": []
  },
  {
   "cell_type": "code",
   "execution_count": 2,
   "metadata": {},
   "outputs": [
    {
     "name": "stdout",
     "output_type": "stream",
     "text": [
      "Regmi SANDIP\n"
     ]
    }
   ],
   "source": [
    "name = \"Regmi SANDIP\"\n",
    "print(name)"
   ]
  },
  {
   "cell_type": "code",
   "execution_count": 5,
   "metadata": {},
   "outputs": [],
   "source": [
    "#Define Integer, Floating Point, String and Boolian\n",
    "Manchester = 21\n",
    "Miami = 31.44\n",
    "Texas = \"Big\"\n",
    "Nepal = True"
   ]
  },
  {
   "cell_type": "code",
   "execution_count": 3,
   "metadata": {},
   "outputs": [
    {
     "data": {
      "text/plain": [
       "bool"
      ]
     },
     "execution_count": 3,
     "metadata": {},
     "output_type": "execute_result"
    }
   ],
   "source": [
    "type(Nepal)"
   ]
  },
  {
   "cell_type": "code",
   "execution_count": 4,
   "metadata": {},
   "outputs": [
    {
     "data": {
      "text/plain": [
       "float"
      ]
     },
     "execution_count": 4,
     "metadata": {},
     "output_type": "execute_result"
    }
   ],
   "source": [
    "type(Miami)"
   ]
  },
  {
   "cell_type": "code",
   "execution_count": 6,
   "metadata": {},
   "outputs": [
    {
     "data": {
      "text/plain": [
       "int"
      ]
     },
     "execution_count": 6,
     "metadata": {},
     "output_type": "execute_result"
    }
   ],
   "source": [
    "type(Manchester)"
   ]
  },
  {
   "cell_type": "code",
   "execution_count": 7,
   "metadata": {},
   "outputs": [
    {
     "data": {
      "text/plain": [
       "str"
      ]
     },
     "execution_count": 7,
     "metadata": {},
     "output_type": "execute_result"
    }
   ],
   "source": [
    "type(Texas)"
   ]
  },
  {
   "cell_type": "code",
   "execution_count": 16,
   "metadata": {},
   "outputs": [
    {
     "data": {
      "text/plain": [
       "str"
      ]
     },
     "execution_count": 16,
     "metadata": {},
     "output_type": "execute_result"
    }
   ],
   "source": [
    "flot = str(Miami)\n",
    "type(flot)"
   ]
  },
  {
   "cell_type": "code",
   "execution_count": 12,
   "metadata": {},
   "outputs": [
    {
     "name": "stdout",
     "output_type": "stream",
     "text": [
      " Bueno Bueno Bueno Bueno Bueno\n"
     ]
    }
   ],
   "source": [
    "Printf =  \" Bueno\" * 5 \n",
    "print(Printf)"
   ]
  },
  {
   "cell_type": "code",
   "execution_count": 14,
   "metadata": {},
   "outputs": [
    {
     "name": "stdout",
     "output_type": "stream",
     "text": [
      "Bueno Bueno Bueno Bueno Bueno \n"
     ]
    }
   ],
   "source": [
    "PrintADD = \"Bueno \" + \"Bueno \" + \"Bueno \" + \"Bueno \" + \"Bueno \"\n",
    "print(PrintADD)\n",
    "\n",
    "#LEARNED THAT SPACING  WHILE ASSIGNING DATA IS IMPORTANT "
   ]
  },
  {
   "cell_type": "code",
   "execution_count": 17,
   "metadata": {},
   "outputs": [
    {
     "data": {
      "text/plain": [
       "float"
      ]
     },
     "execution_count": 17,
     "metadata": {},
     "output_type": "execute_result"
    }
   ],
   "source": [
    "add = Manchester + Miami\n",
    "type(add)"
   ]
  },
  {
   "cell_type": "code",
   "execution_count": 18,
   "metadata": {},
   "outputs": [
    {
     "name": "stdout",
     "output_type": "stream",
     "text": [
      "1\n"
     ]
    }
   ],
   "source": [
    "Boolian = int(Nepal)\n",
    "print(Boolian)"
   ]
  },
  {
   "cell_type": "code",
   "execution_count": 19,
   "metadata": {},
   "outputs": [
    {
     "name": "stdout",
     "output_type": "stream",
     "text": [
      "31\n"
     ]
    }
   ],
   "source": [
    "f_conv = int(Miami)\n",
    "print(f_conv)"
   ]
  },
  {
   "cell_type": "code",
   "execution_count": 51,
   "metadata": {},
   "outputs": [
    {
     "name": "stdout",
     "output_type": "stream",
     "text": [
      "[17.85714285714286, 32.54437869822485, 23.437499999999996, 22.49134948096886, 22.857142857142858]\n"
     ]
    }
   ],
   "source": [
    "F = [\" Ram\", \" Sahil\", \"Ashim\", \"Mayank\", \"Suman\"]\n",
    "L = [\" Khadka\", \" Chudal\", \" Bhattarai\", \" Sharma\", \" Koirala\"]\n",
    "H = [1.4, 1.3, 1.6, 1.7, 1.75]\n",
    "W = [35, 55, 60, 65, 70]\n",
    "A = [21, 22, 23, 24, 25]\n",
    "\n",
    "#The F,L,H,W,A are First Name, Last Name, Height (in centimetre), Weight (in Kg), and Age respectively\n",
    "\n",
    "\n",
    "BMI = [W[0]/H[0]**2, W[1]/H[1]**2, W[2]/H[2]**2, W[3]/H[3]**2, W[4]/H[4]**2]\n",
    "print(BMI)"
   ]
  },
  {
   "cell_type": "code",
   "execution_count": null,
   "metadata": {},
   "outputs": [],
   "source": [
    "#BMI<18.5 = underweight \n",
    "#18.5<BMI<24.9 = healthy weight\n",
    "#25.0–29.9<BMI = overweight\n",
    "#SOURCE: https://www.diabetes.ca/managing-my-diabetes/tools---resources/body-mass-index-(bmi)-calculator"
   ]
  },
  {
   "cell_type": "code",
   "execution_count": 46,
   "metadata": {},
   "outputs": [
    {
     "data": {
      "text/plain": [
       "'Over weight'"
      ]
     },
     "execution_count": 46,
     "metadata": {},
     "output_type": "execute_result"
    }
   ],
   "source": [
    "BMI_CLASS= [\n",
    "[F[0], L[0], A[0], H[0], W[0], BMI[0],\"Under weight\"],\n",
    "[F[1], L[1], A[1], H[1], W[1], BMI[1],\"Over weight\"], \n",
    "[F[2], L[2], A[2], H[2], W[2], BMI[2],\"Healthy weight\"],    \n",
    "[F[3], L[3], A[3], H[3], W[3], BMI[3],\"Healthy weight\"],    \n",
    "[F[4], L[4], A[4], H[4], W[4], BMI[4],\"Healthy weight\"],    \n",
    "]\n",
    "\n",
    "BMI_CLASS[1][-1]"
   ]
  },
  {
   "cell_type": "code",
   "execution_count": 58,
   "metadata": {},
   "outputs": [
    {
     "name": "stdout",
     "output_type": "stream",
     "text": [
      " Ram Khadka, 21, has a height of 1.4 meters and weight of 35 KG, giving a body mass index (BMI) of 17.85714285714286 making him Under weight\n"
     ]
    }
   ],
   "source": [
    "print(F[0] + L[0] + \", \" + str(A[0]) + \", \" + 'has a height of ' + str(H[0]) + ' meters and weight of ' + str(W[0]) + ' KG, giving a body mass index (BMI) of ' + str(BMI[0]) + ' making him ' +  str(BMI_CLASS [0][6]))\n",
    "\n"
   ]
  },
  {
   "cell_type": "code",
   "execution_count": 57,
   "metadata": {},
   "outputs": [
    {
     "name": "stdout",
     "output_type": "stream",
     "text": [
      " Sahil Chudal, 22, has a height of 1.3 meters and weight of 55 KG, giving a body mass index (BMI) of 32.54437869822485 making him Over weight\n"
     ]
    }
   ],
   "source": [
    "print(F[1] + L[1] + \", \" + str(A[1]) + \", \" + 'has a height of ' + str(H[1]) + ' meters and weight of ' + str(W[1]) + ' KG, giving a body mass index (BMI) of ' + str(BMI[1]) + ' making him ' +  str(BMI_CLASS [1][6]))"
   ]
  },
  {
   "cell_type": "code",
   "execution_count": 60,
   "metadata": {},
   "outputs": [
    {
     "name": "stdout",
     "output_type": "stream",
     "text": [
      "Ashim Bhattarai, 23, has a height of 1.6 meters and weight of 60 KG, giving a body mass index (BMI) of 23.437499999999996 making him Healthy weight\n"
     ]
    }
   ],
   "source": [
    "print(F[2] + L[2] + \", \" + str(A[2]) + \", \" + 'has a height of ' + str(H[2]) + ' meters and weight of ' + str(W[2]) + ' KG, giving a body mass index (BMI) of ' + str(BMI[2]) + ' making him ' +  str(BMI_CLASS [2][6]))\n",
    "\n"
   ]
  },
  {
   "cell_type": "code",
   "execution_count": 56,
   "metadata": {},
   "outputs": [
    {
     "name": "stdout",
     "output_type": "stream",
     "text": [
      "Mayank Sharma, 24, has a height of 1.7 meters and weight of 65 KG, giving a body mass index (BMI) of 22.49134948096886 making him Healthy weight\n"
     ]
    }
   ],
   "source": [
    "print(F[3] + L[3] + \", \" + str(A[3]) + \", \" + 'has a height of ' + str(H[3]) + ' meters and weight of ' + str(W[3]) + ' KG, giving a body mass index (BMI) of ' + str(BMI[3]) + ' making him ' +  str(BMI_CLASS [3][6]))\n",
    "\n",
    "\n"
   ]
  },
  {
   "cell_type": "code",
   "execution_count": 54,
   "metadata": {},
   "outputs": [
    {
     "name": "stdout",
     "output_type": "stream",
     "text": [
      "Suman Koirala, 25, has a height of 1.75 meters and weight of 70 KG, giving a body mass index (BMI) of 22.857142857142858 making him Healthy weight\n"
     ]
    }
   ],
   "source": [
    "print(F[4] + L[4] + \", \" + str(A[4]) + \", \" + 'has a height of ' + str(H[4]) + ' meters and weight of ' + str(W[4]) + ' KG, giving a body mass index (BMI) of ' + str(BMI[4]) + ' making him ' +  str(BMI_CLASS [4][6]))"
   ]
  },
  {
   "cell_type": "code",
   "execution_count": 73,
   "metadata": {},
   "outputs": [],
   "source": [
    "#APPEND OWN INFO\n",
    "BMI = BMI + [62/1.74**2]\n",
    "F = F + [' Sandip ']\n",
    "L = L + [' Regmi ']\n",
    "A = A + [25]\n",
    "H = H + [1.74]\n",
    "W = W + [62]\n",
    "\n",
    "#what i learn is - we need to RUN for getting updates "
   ]
  },
  {
   "cell_type": "code",
   "execution_count": 80,
   "metadata": {},
   "outputs": [
    {
     "name": "stdout",
     "output_type": "stream",
     "text": [
      "20.478266613819528\n"
     ]
    },
    {
     "data": {
      "text/plain": [
       "20.478266613819528"
      ]
     },
     "execution_count": 80,
     "metadata": {},
     "output_type": "execute_result"
    }
   ],
   "source": [
    "check_my_BMI = 62/1.74**2\n",
    "print(check_my_BMI)\n",
    "BMI[5]"
   ]
  },
  {
   "cell_type": "code",
   "execution_count": 78,
   "metadata": {},
   "outputs": [
    {
     "data": {
      "text/plain": [
       "' Regmi '"
      ]
     },
     "execution_count": 78,
     "metadata": {},
     "output_type": "execute_result"
    }
   ],
   "source": [
    "\n",
    "L[5]"
   ]
  },
  {
   "cell_type": "code",
   "execution_count": 79,
   "metadata": {},
   "outputs": [
    {
     "data": {
      "text/plain": [
       "' Sandip '"
      ]
     },
     "execution_count": 79,
     "metadata": {},
     "output_type": "execute_result"
    }
   ],
   "source": [
    "F[-1]"
   ]
  },
  {
   "cell_type": "code",
   "execution_count": 83,
   "metadata": {},
   "outputs": [],
   "source": [
    "BMI_CLASS= [\n",
    "[F[0], L[0], A[0], H[0], W[0], BMI[0],\"Under weight.\"],\n",
    "[F[1], L[1], A[1], H[1], W[1], BMI[1],\"Over weight.\"], \n",
    "[F[2], L[2], A[2], H[2], W[2], BMI[2],\"Healthy weight.\"],    \n",
    "[F[3], L[3], A[3], H[3], W[3], BMI[3],\"Healthy weight.\"],    \n",
    "[F[4], L[4], A[4], H[4], W[4], BMI[4],\"Healthy weight.\"],  \n",
    "[F[5], L[5], A[5], H[5], W[5], BMI[5],\"Healthy weight.\"],\n",
    "]\n"
   ]
  },
  {
   "cell_type": "code",
   "execution_count": 90,
   "metadata": {},
   "outputs": [
    {
     "name": "stdout",
     "output_type": "stream",
     "text": [
      " Sandip  Regmi , 25, has a height of 1.74 meters and weight of 62 KG, giving a body mass index (BMI) of 20.478266613819528 making him Healthy weight\n"
     ]
    }
   ],
   "source": [
    "print(F[5] + L[5] + \", \" + str(A[5]) + \", \" + 'has a height of ' + str(H[5]) + ' meters and weight of ' + str(W[5]) + ' KG, giving a body mass index (BMI) of ' + str(BMI[5]) + ' making him ' +  str(BMI_CLASS [5][-1]))"
   ]
  },
  {
   "cell_type": "code",
   "execution_count": 91,
   "metadata": {},
   "outputs": [
    {
     "name": "stdout",
     "output_type": "stream",
     "text": [
      " He commits to maintain same index and focus more on exercise, athletic work. Thank you \n"
     ]
    }
   ],
   "source": [
    "print(' He commits to maintain same index and focus more on exercise, athletic work. Thank you ')"
   ]
  },
  {
   "cell_type": "code",
   "execution_count": null,
   "metadata": {},
   "outputs": [],
   "source": []
  }
 ],
 "metadata": {
  "kernelspec": {
   "display_name": "Python 3",
   "language": "python",
   "name": "python3"
  },
  "language_info": {
   "codemirror_mode": {
    "name": "ipython",
    "version": 3
   },
   "file_extension": ".py",
   "mimetype": "text/x-python",
   "name": "python",
   "nbconvert_exporter": "python",
   "pygments_lexer": "ipython3",
   "version": "3.8.5"
  }
 },
 "nbformat": 4,
 "nbformat_minor": 4
}
